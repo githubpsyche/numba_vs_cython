{
 "cells": [
  {
   "attachments": {},
   "cell_type": "markdown",
   "metadata": {},
   "source": [
    "# Numba vs Cython for Implementing CMR Operations\n",
    "> A basic comparison of Cython and Numba for speeding up operations central to simulation of the Context Maintenance and Retrieval (CMR) model"
   ]
  },
  {
   "attachments": {},
   "cell_type": "markdown",
   "metadata": {},
   "source": [
    "cymr, an implementation of the Context Maintenance and Retrieval (CMR) model, leverages Cython for faster execution compared to base Python. While Cython's speedup is essential given CMR's computational demands, its specialized syntax and concepts present a barrier for users or contributors unfamiliar with low-level programming languages or preferring regular Python.\n",
    "\n",
    "This notebook highlights the substantial speedup Cython offers for cymr operations. However, it also demonstrates an alternative method to achieve these gains using Numba, a tool that compiles Python functions \"just in time\" into optimized machine code. Unlike Cython, Numba doesn't demand specialized syntax or additional compilation steps, making it more accessible to users with different skill levels. Even for experienced Cython users, Numba might be easier to use and maintain.\n",
    "\n",
    "The focus here is on the function `integrate_context` from `cymr`'s operations.pyx, with a direct comparison of Cython and Python versions, and the application of Numba's `@njit` decorator to the Python translation. The results reveal that Numba-compiled Python code is substantially faster than both Cython and base Python versions, proving that Numba is a promising alternative to Cython for CMR. Thus, Numba can enhance speed while avoiding Cython's accessibility challenges."
   ]
  },
  {
   "attachments": {},
   "cell_type": "markdown",
   "metadata": {},
   "source": [
    "## `integrate_context`\n",
    "The function `integrate_context` in `operations.pyx` uses a hidden function `calc_rho` to integrate contextual input into a context vector.\n",
    "We import the module for experiments here, but also copy the underlying code here for reference."
   ]
  },
  {
   "cell_type": "code",
   "execution_count": 15,
   "metadata": {},
   "outputs": [],
   "source": [
    "from operations import integrate_context as cython_integrate_context"
   ]
  },
  {
   "attachments": {},
   "cell_type": "markdown",
   "metadata": {},
   "source": [
    "### Implementation Using Cython"
   ]
  },
  {
   "attachments": {},
   "cell_type": "markdown",
   "metadata": {},
   "source": [
    "```cython\n",
    "@cython.profile(False)\n",
    "cdef inline double calc_rho(double cdot, double B):\n",
    "    \"\"\"\n",
    "    Calculate context integration scaling factor.\n",
    "    \n",
    "    Parameters\n",
    "    ----------\n",
    "    cdot\n",
    "        Dot product between :math:`c` and :math:`c^{IN}`.\n",
    "    \n",
    "    B\n",
    "        Beta parameter weighting :math:`c^{IN}`.\n",
    "    \n",
    "    Returns\n",
    "    -------\n",
    "    rho\n",
    "        Scaling factor for :math:`c`.   \n",
    "    \"\"\"\n",
    "    rho = sqrt(1 + (B * B) * ((cdot * cdot) - 1)) - (B * cdot)\n",
    "    return rho\n",
    "\n",
    "\n",
    "cpdef integrate_context(double [:] c, double [:] c_in, double B, int [:] c_ind):\n",
    "    \"\"\"\n",
    "    Integrate context input.\n",
    "    \n",
    "    Parameters\n",
    "    ----------\n",
    "    c\n",
    "        Context state :math:`c`.\n",
    "    \n",
    "    c_in\n",
    "        Input to context :math:`c^{IN}`\n",
    "    \n",
    "    B\n",
    "        :math:`\\beta` parameter weighting :math:`c`.\n",
    "    \n",
    "    c_ind\n",
    "        Start and end indices of context to update.\n",
    "    \"\"\"\n",
    "    cdef double cdot = 0\n",
    "    cdef int i\n",
    "    for i in range(c_ind[0], c_ind[1]):\n",
    "        cdot += c[i] * c_in[i]\n",
    "    rho = calc_rho(cdot, B)\n",
    "\n",
    "    for i in range(c_ind[0], c_ind[1]):\n",
    "        c[i] = rho * c[i] + B * c_in[i]\n",
    "```"
   ]
  },
  {
   "attachments": {},
   "cell_type": "markdown",
   "metadata": {},
   "source": [
    "### Implementation Using Base Numpy\n",
    "Unlike in Cython, type annotations here are optional when it comes to getting a function going -- both here, and even once we start using Numba.\n",
    "Type annotation is useful anyway, but in this case we exclude them to show off how little is required to prototype a function that runs as fast as the Cython version."
   ]
  },
  {
   "cell_type": "code",
   "execution_count": 16,
   "metadata": {},
   "outputs": [],
   "source": [
    "import numpy as np\n",
    "\n",
    "def calc_rho(cdot, B):\n",
    "    rho = np.sqrt(1 + (B * B) * ((cdot * cdot) - 1)) - (B * cdot)\n",
    "    return rho\n",
    "\n",
    "def integrate_context(c, c_in, B, c_ind):\n",
    "    cdot = 0\n",
    "    \n",
    "    for i in range(c_ind[0], c_ind[1]):\n",
    "        cdot += c[i] * c_in[i]\n",
    "    rho = calc_rho(cdot, B)\n",
    "\n",
    "    for i in range(c_ind[0], c_ind[1]):\n",
    "        c[i] = rho * c[i] + B * c_in[i]"
   ]
  },
  {
   "attachments": {},
   "cell_type": "markdown",
   "metadata": {},
   "source": [
    "### Adding Numba Compilation"
   ]
  },
  {
   "cell_type": "code",
   "execution_count": 17,
   "metadata": {},
   "outputs": [],
   "source": [
    "from numba import njit\n",
    "\n",
    "@njit\n",
    "def numba_calc_rho(cdot, B):\n",
    "    rho = np.sqrt(1 + (B * B) * ((cdot * cdot) - 1)) - (B * cdot)\n",
    "    return rho\n",
    "\n",
    "@njit\n",
    "def numba_integrate_context(c, c_in, B, c_ind):\n",
    "    cdot = 0\n",
    "    \n",
    "    for i in range(c_ind[0], c_ind[1]):\n",
    "        cdot += c[i] * c_in[i]\n",
    "    rho = numba_calc_rho(cdot, B) # you can't mix numba with base python, so we use the numba version of calc_rho\n",
    "\n",
    "    for i in range(c_ind[0], c_ind[1]):\n",
    "        c[i] = rho * c[i] + B * c_in[i]"
   ]
  },
  {
   "attachments": {},
   "cell_type": "markdown",
   "metadata": {},
   "source": [
    "### Speed Comparison\n",
    "We run each function to confirm they work before our speed test, but also because the first run of a JIT-compiled function is necessarily slower than subsequent runs because of the compilation step.\n",
    "The cost of compilation step is negligible when the function is called many times, but it can be significant when the function is only called once.\n",
    "Even in this case, compilation results can be cached to ensure this cost is only paid once, similar to how Cython compiles code just once.\n",
    "We don't do any demonstration of caching here, though.\n",
    "We use the `timeit` module to time each function call, allowing the module to configure the number of loops and repetitions to get a good estimate of the time required to run each function."
   ]
  },
  {
   "cell_type": "code",
   "execution_count": 18,
   "metadata": {},
   "outputs": [],
   "source": [
    "c1 = np.array([0.0, 0.09128709, 0.18257419, 0.27386128, 0.36514837, 0.8660254])\n",
    "c2 = np.array([0.15655607, 0.24875946, 0.34096284, 0.43316622, 0.52536961, 0.57767384])\n",
    "B = 0.5\n",
    "c_ind = np.array([0, 6], dtype=np.int32)\n",
    "\n",
    "integrate_context(c1, c2, B, c_ind)\n",
    "cython_integrate_context(c1, c2, B, c_ind)\n",
    "numba_integrate_context(c1, c2, B, c_ind)"
   ]
  },
  {
   "cell_type": "code",
   "execution_count": 19,
   "metadata": {},
   "outputs": [
    {
     "name": "stdout",
     "output_type": "stream",
     "text": [
      "5.77 µs ± 185 ns per loop (mean ± std. dev. of 7 runs, 100,000 loops each)\n"
     ]
    }
   ],
   "source": [
    "%timeit integrate_context(c1, c2, B, c_ind)"
   ]
  },
  {
   "cell_type": "code",
   "execution_count": 20,
   "metadata": {},
   "outputs": [
    {
     "name": "stdout",
     "output_type": "stream",
     "text": [
      "992 ns ± 28.9 ns per loop (mean ± std. dev. of 7 runs, 1,000,000 loops each)\n"
     ]
    }
   ],
   "source": [
    "%timeit cython_integrate_context(c1, c2, B, c_ind)"
   ]
  },
  {
   "cell_type": "code",
   "execution_count": 21,
   "metadata": {},
   "outputs": [
    {
     "name": "stdout",
     "output_type": "stream",
     "text": [
      "556 ns ± 14.2 ns per loop (mean ± std. dev. of 7 runs, 1,000,000 loops each)\n"
     ]
    }
   ],
   "source": [
    "%timeit numba_integrate_context(c1, c2, B, c_ind)"
   ]
  },
  {
   "attachments": {},
   "cell_type": "markdown",
   "metadata": {},
   "source": [
    "This speed comparison shows that the Numba-compiled Python code is even significantly faster than the Cython implementation, and that both are several times than the base Python implementation.\n",
    "Outcomes like these are why I think Numba is worth considering as an alternative to Cython for speeding up most of the code we use to do much of our research."
   ]
  }
 ],
 "metadata": {
  "kernelspec": {
   "display_name": "Python 3",
   "language": "python",
   "name": "python3"
  },
  "language_info": {
   "codemirror_mode": {
    "name": "ipython",
    "version": 3
   },
   "file_extension": ".py",
   "mimetype": "text/x-python",
   "name": "python",
   "nbconvert_exporter": "python",
   "pygments_lexer": "ipython3",
   "version": "3.10.9"
  },
  "orig_nbformat": 4
 },
 "nbformat": 4,
 "nbformat_minor": 2
}
