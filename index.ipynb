{
 "cells": [
  {
   "attachments": {},
   "cell_type": "markdown",
   "metadata": {},
   "source": [
    "# Numba vs Cython for Implementing CMR Operations\n",
    "> A basic comparison of Cython and Numba for speeding up operations central to simulation of the Context Maintenance and Retrieval (CMR) model"
   ]
  },
  {
   "attachments": {},
   "cell_type": "markdown",
   "metadata": {},
   "source": [
    "An central selling point of `cymr` as an implementation of the Context Maintenance and Retrieval (CMR) model is that it uses Cython to accelerate model execution in comparison to a base Python implementation.\n",
    "\n",
    "However, there are some downsides to using Cython. The main downside is that Cython requires knowledge Cython-specific syntax and concepts to understand and use effectively. \n",
    "This can be a barrier for contributors and users who are not familiar with concepts associated with low-level programming languages or otherwise prefer to develop in regular Python.\n",
    "With libraries designed for model-based research, users are frequently interested in modifying the code to test new ideas or to adapt the model to their own research questions.\n",
    "In this case, the barrier to entry for Cython can be a significant drawback.\n",
    "\n",
    "Still, given the computational demands of fitting a model like CMR to data, the speedup provided by Cython is significant enough that it is worth it to use Cython for the core model code.\n",
    "In this notebook, we provide evidence that the speedup provided by Cython for key operations in `cymr` is substantial.\n",
    "But we also show that these gains can be obtained using a different approach: using Numba to compile applicable functions \"just in time\".\n",
    "Numba translates Python functions to optimized machine code at runtime.\n",
    "Numba-compiled numerical algorithms in Python can approach the speeds of C or FORTRAN.\n",
    "The key advantage of Numba is that it does not require any special syntax or concepts to use, or require any extra compilation steps.\n",
    "Instead, as long as a function sticks to the subset of Python and NumPy that Numba supports, you can just apply one of the Numba decorators to your Python function, and Numba does the rest.\n",
    "This might provide a more accessible alternative to Cython for providing fast implementations of model code while keeping a codebase accessible to users without familiarity with Cython.\n",
    "Even for experienced Cython users, Numba might still provide an alternative approach to speeding up code that can be easier to use and maintain.\n",
    "\n",
    "In this demonstration, I focus on the the function `integrate_context` in `cymr`'s `operations.pyx`.\n",
    "It uses an additional hidden function `calc_rho` to integrate contextual input into a context vector.\n",
    "For each method, I perform a direct translation of the Cython code to regular Python.\n",
    "To confirm that these methods are faster in Cython than in Python, I compare the Cython implementations to a direct translation of the Cython code to Python.\n",
    "Next, to show how Numba can be used to provide a fast implementation of the same method, I apply the `@njit` decorator from Numba to the Python translation of the Cython code.\n",
    "Finally, I compare the speed of the Numba-compiled Python code to the Cython implementation.\n",
    "This speed comparison shows that the Numba-compiled Python code is even substantially faster than the Cython implementation, and that both are several times than the base Python implementation.\n",
    "\n",
    "A fuller comparison might convert the entire set of operations defined in `operations.pyx` to Numba-compiled Python code and then run corresponding tests defined already in the `cymr` test suite.\n",
    "Perhaps within more complex functions distributed across multiple files, the speedup provided by Cython might turn out to be more substantial -- though I have no particular reason to expect this.\n",
    "However, these initial comparisons provide a proof of concept that Numba is a viable alternative to Cython for speeding up functions central to CMR that might motivate further exploration.\n",
    "I also hopefully show that these Numba makes fewer tradeoffs in terms of accessibility and ease of use than Cython."
   ]
  },
  {
   "attachments": {},
   "cell_type": "markdown",
   "metadata": {},
   "source": [
    "## `integrate_context`\n",
    "The function `integrate_context` in `operations.pyx` uses a hidden function `calc_rho` to integrate contextual input into a context vector.\n",
    "We import the module for experiments here, but also copy the underlying code here for reference."
   ]
  },
  {
   "cell_type": "code",
   "execution_count": 1,
   "metadata": {},
   "outputs": [],
   "source": [
    "from operations import integrate_context as cython_integrate_context"
   ]
  },
  {
   "attachments": {},
   "cell_type": "markdown",
   "metadata": {},
   "source": [
    "### Implementation Using Cython"
   ]
  },
  {
   "attachments": {},
   "cell_type": "markdown",
   "metadata": {},
   "source": [
    "```cython\n",
    "@cython.profile(False)\n",
    "cdef inline double calc_rho(double cdot, double B):\n",
    "    \"\"\"\n",
    "    Calculate context integration scaling factor.\n",
    "    \n",
    "    Parameters\n",
    "    ----------\n",
    "    cdot\n",
    "        Dot product between :math:`c` and :math:`c^{IN}`.\n",
    "    \n",
    "    B\n",
    "        Beta parameter weighting :math:`c^{IN}`.\n",
    "    \n",
    "    Returns\n",
    "    -------\n",
    "    rho\n",
    "        Scaling factor for :math:`c`.   \n",
    "    \"\"\"\n",
    "    rho = sqrt(1 + (B * B) * ((cdot * cdot) - 1)) - (B * cdot)\n",
    "    return rho\n",
    "\n",
    "\n",
    "cpdef integrate_context(double [:] c, double [:] c_in, double B, int [:] c_ind):\n",
    "    \"\"\"\n",
    "    Integrate context input.\n",
    "    \n",
    "    Parameters\n",
    "    ----------\n",
    "    c\n",
    "        Context state :math:`c`.\n",
    "    \n",
    "    c_in\n",
    "        Input to context :math:`c^{IN}`\n",
    "    \n",
    "    B\n",
    "        :math:`\\beta` parameter weighting :math:`c`.\n",
    "    \n",
    "    c_ind\n",
    "        Start and end indices of context to update.\n",
    "    \"\"\"\n",
    "    cdef double cdot = 0\n",
    "    cdef int i\n",
    "    for i in range(c_ind[0], c_ind[1]):\n",
    "        cdot += c[i] * c_in[i]\n",
    "    rho = calc_rho(cdot, B)\n",
    "\n",
    "    for i in range(c_ind[0], c_ind[1]):\n",
    "        c[i] = rho * c[i] + B * c_in[i]\n",
    "```"
   ]
  },
  {
   "attachments": {},
   "cell_type": "markdown",
   "metadata": {},
   "source": [
    "### Implementation Using Base Numpy\n",
    "Unlike in Cython, type annotations here are optional when it comes to getting a function going -- both here, and even once we start using Numba.\n",
    "Type annotation is useful anyway, but in this case we exclude them to show off how little is required to prototype a function that runs as fast as the Cython version."
   ]
  },
  {
   "cell_type": "code",
   "execution_count": 2,
   "metadata": {},
   "outputs": [],
   "source": [
    "import numpy as np\n",
    "\n",
    "def calc_rho(cdot, B):\n",
    "    rho = np.sqrt(1 + (B * B) * ((cdot * cdot) - 1)) - (B * cdot)\n",
    "    return rho\n",
    "\n",
    "def integrate_context(c, c_in, B, c_ind):\n",
    "    cdot = 0\n",
    "    \n",
    "    for i in range(c_ind[0], c_ind[1]):\n",
    "        cdot += c[i] * c_in[i]\n",
    "    rho = calc_rho(cdot, B)\n",
    "\n",
    "    for i in range(c_ind[0], c_ind[1]):\n",
    "        c[i] = rho * c[i] + B * c_in[i]"
   ]
  },
  {
   "attachments": {},
   "cell_type": "markdown",
   "metadata": {},
   "source": [
    "### Adding Numba Compilation"
   ]
  },
  {
   "cell_type": "code",
   "execution_count": 3,
   "metadata": {},
   "outputs": [],
   "source": [
    "from numba import njit\n",
    "\n",
    "@njit\n",
    "def numba_calc_rho(cdot, B):\n",
    "    rho = np.sqrt(1 + (B * B) * ((cdot * cdot) - 1)) - (B * cdot)\n",
    "    return rho\n",
    "\n",
    "@njit\n",
    "def numba_integrate_context(c, c_in, B, c_ind):\n",
    "    cdot = 0\n",
    "    \n",
    "    for i in range(c_ind[0], c_ind[1]):\n",
    "        cdot += c[i] * c_in[i]\n",
    "    rho = numba_calc_rho(cdot, B) # you can't mix numba with base python, so we use the numba version of calc_rho\n",
    "\n",
    "    for i in range(c_ind[0], c_ind[1]):\n",
    "        c[i] = rho * c[i] + B * c_in[i]"
   ]
  },
  {
   "attachments": {},
   "cell_type": "markdown",
   "metadata": {},
   "source": [
    "### Speed Comparison\n",
    "We run each function to confirm they work before our speed test, but also because the first run of a JIT-compiled function is necessarily slower than subsequent runs because of the compilation step.\n",
    "The cost of compilation step is negligible when the function is called many times, but it can be significant when the function is only called once.\n",
    "Even in this case, compilation results can be cached to ensure this cost is only paid once, similar to how Cython compiles code just once.\n",
    "We don't do any demonstration of caching here, though.\n",
    "We use the `timeit` module to time each function call, allowing the module to configure the number of loops and repetitions to get a good estimate of the time required to run each function."
   ]
  },
  {
   "cell_type": "code",
   "execution_count": 4,
   "metadata": {},
   "outputs": [],
   "source": [
    "c1 = np.array([0.0, 0.09128709, 0.18257419, 0.27386128, 0.36514837, 0.8660254])\n",
    "c2 = np.array([0.15655607, 0.24875946, 0.34096284, 0.43316622, 0.52536961, 0.57767384])\n",
    "B = 0.5\n",
    "c_ind = np.array([0, 6], dtype=np.int32)\n",
    "\n",
    "integrate_context(c1, c2, B, c_ind)\n",
    "cython_integrate_context(c1, c2, B, c_ind)\n",
    "numba_integrate_context(c1, c2, B, c_ind)"
   ]
  },
  {
   "cell_type": "code",
   "execution_count": 5,
   "metadata": {},
   "outputs": [
    {
     "name": "stdout",
     "output_type": "stream",
     "text": [
      "5.92 µs ± 213 ns per loop (mean ± std. dev. of 7 runs, 100,000 loops each)\n"
     ]
    }
   ],
   "source": [
    "%timeit integrate_context(c1, c2, B, c_ind)"
   ]
  },
  {
   "cell_type": "code",
   "execution_count": 6,
   "metadata": {},
   "outputs": [
    {
     "name": "stdout",
     "output_type": "stream",
     "text": [
      "1.02 µs ± 21.1 ns per loop (mean ± std. dev. of 7 runs, 1,000,000 loops each)\n"
     ]
    }
   ],
   "source": [
    "%timeit cython_integrate_context(c1, c2, B, c_ind)"
   ]
  },
  {
   "cell_type": "code",
   "execution_count": 7,
   "metadata": {},
   "outputs": [
    {
     "name": "stdout",
     "output_type": "stream",
     "text": [
      "564 ns ± 12.2 ns per loop (mean ± std. dev. of 7 runs, 1,000,000 loops each)\n"
     ]
    }
   ],
   "source": [
    "%timeit numba_integrate_context(c1, c2, B, c_ind)"
   ]
  },
  {
   "attachments": {},
   "cell_type": "markdown",
   "metadata": {},
   "source": [
    "This speed comparison shows that the Numba-compiled Python code is even significantly faster than the Cython implementation, and that both are several times than the base Python implementation.\n",
    "Outcomes like these are why I think Numba is worth considering as an alternative to Cython for speeding up most of the code we use to do much of our research."
   ]
  }
 ],
 "metadata": {
  "kernelspec": {
   "display_name": "Python 3",
   "language": "python",
   "name": "python3"
  },
  "language_info": {
   "codemirror_mode": {
    "name": "ipython",
    "version": 3
   },
   "file_extension": ".py",
   "mimetype": "text/x-python",
   "name": "python",
   "nbconvert_exporter": "python",
   "pygments_lexer": "ipython3",
   "version": "3.10.9"
  },
  "orig_nbformat": 4
 },
 "nbformat": 4,
 "nbformat_minor": 2
}
